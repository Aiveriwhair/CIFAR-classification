{
 "cells": [
  {
   "cell_type": "code",
   "execution_count": 1,
   "id": "75f2d541-71dc-48cc-a8cd-daa76802fa1a",
   "metadata": {},
   "outputs": [],
   "source": [
    "%matplotlib inline"
   ]
  },
  {
   "cell_type": "markdown",
   "id": "4b3a858e-c0b2-40ea-aa7d-3735adc95335",
   "metadata": {},
   "source": [
    "### 1. Load dependencies "
   ]
  },
  {
   "cell_type": "code",
   "execution_count": 2,
   "id": "e1202fa8-f6a2-48f5-acb7-f09212cf7536",
   "metadata": {},
   "outputs": [],
   "source": [
    "import model\n",
    "import func\n",
    "import torch\n",
    "import torchvision\n",
    "import torchvision.transforms as transforms\n",
    "import torch.nn as nn\n",
    "import matplotlib.pyplot as plt\n",
    "import numpy as np\n",
    "import time\n",
    "import torch.optim as optim\n",
    "import torch.nn.functional as F"
   ]
  },
  {
   "cell_type": "markdown",
   "id": "33f97d6f-ddc4-4e65-914d-df28a71ab3f8",
   "metadata": {},
   "source": [
    "### 2. Defining the dataset"
   ]
  },
  {
   "cell_type": "code",
   "execution_count": 3,
   "id": "4c69e6bd-907b-4a83-b4e5-4bdf2d1325ab",
   "metadata": {},
   "outputs": [],
   "source": [
    "transform = transforms.Compose(\n",
    "        [transforms.ToTensor(),\n",
    "        transforms.Normalize((0.5, 0.5, 0.5), (0.5, 0.5, 0.5))])"
   ]
  },
  {
   "cell_type": "markdown",
   "id": "8dc95bd1-f90f-49ca-8423-55f2982d73b4",
   "metadata": {},
   "source": [
    "<br>\n",
    "Define the batch size :\n",
    "<br><br>"
   ]
  },
  {
   "cell_type": "code",
   "execution_count": 4,
   "id": "e6850b80-ae9b-4237-a8bf-4223ee9e668a",
   "metadata": {},
   "outputs": [],
   "source": [
    "batch_size = 4"
   ]
  },
  {
   "cell_type": "markdown",
   "id": "b15eb452-830b-4129-ae22-cebb0b43051a",
   "metadata": {},
   "source": [
    "<br>Load data from CIFAR-10:<br><br>"
   ]
  },
  {
   "cell_type": "code",
   "execution_count": 5,
   "id": "7d670683-d4d0-465b-820e-cfedacc9c8ae",
   "metadata": {},
   "outputs": [
    {
     "name": "stdout",
     "output_type": "stream",
     "text": [
      "Files already downloaded and verified\n",
      "Files already downloaded and verified\n"
     ]
    }
   ],
   "source": [
    "trainloader, testloader, classes = func.getData(batch_size, transform)"
   ]
  },
  {
   "cell_type": "markdown",
   "id": "4fbaea75-8b98-40e5-92ec-f95335acfb57",
   "metadata": {},
   "source": [
    "<br>Here is an idea of the CIFAR-10 dataset : <br><br>"
   ]
  },
  {
   "cell_type": "code",
   "execution_count": 6,
   "id": "30342f03-1904-4214-89b8-b42e95384983",
   "metadata": {},
   "outputs": [
    {
     "data": {
      "image/png": "[encoded data removed]",
      "text/plain": [
       "<Figure size 640x480 with 1 Axes>"
      ]
     },
     "metadata": {},
     "output_type": "display_data"
    },
    {
     "name": "stdout",
     "output_type": "stream",
     "text": [
      "plane bird  cat   frog \n"
     ]
    }
   ],
   "source": [
    "    def imshow(img):\n",
    "        img = img / 2 + 0.5\n",
    "        npimg = img.numpy()\n",
    "        plt.imshow(np.transpose(npimg, (1, 2, 0)))\n",
    "        plt.show()\n",
    "\n",
    "    dataiter = iter(trainloader)\n",
    "    images, labels = next(dataiter)\n",
    "\n",
    "    imshow(torchvision.utils.make_grid(images))\n",
    "    print(' '.join(f'{classes[labels[j]]:5s}' for j in range(batch_size)))"
   ]
  },
  {
   "cell_type": "markdown",
   "id": "0b2d037f-d66a-4bcf-8504-befc38ccca56",
   "metadata": {},
   "source": [
    "### 3. Defining the model"
   ]
  },
  {
   "cell_type": "markdown",
   "id": "bc6442c1-2190-41cc-ba8c-146f0db6bfa0",
   "metadata": {},
   "source": [
    "Defining the network"
   ]
  },
  {
   "cell_type": "code",
   "execution_count": 7,
   "id": "8a0ed952-73e9-4e43-842e-a0ecc885cd8e",
   "metadata": {},
   "outputs": [],
   "source": [
    "class Net(nn.Module):\n",
    "    def __init__(self):\n",
    "        super().__init__()\n",
    "        self.conv1 = nn.Conv2d(3, 6, 5)\n",
    "        self.pool = nn.MaxPool2d(2, 2)\n",
    "        self.conv2 = nn.Conv2d(6, 16, 5)\n",
    "        self.fc1 = nn.Linear(16 * 5 * 5, 120)\n",
    "        self.fc2 = nn.Linear(120, 84)\n",
    "        self.fc3 = nn.Linear(84, 10)\n",
    "\n",
    "    def forward(self, x):\n",
    "        x = self.pool(F.relu(self.conv1(x)))\n",
    "        x = self.pool(F.relu(self.conv2(x)))\n",
    "        x = torch.flatten(x, 1)\n",
    "        x = F.relu(self.fc1(x))\n",
    "        x = F.relu(self.fc2(x))\n",
    "        x = self.fc3(x)\n",
    "        return x"
   ]
  },
  {
   "cell_type": "markdown",
   "id": "100e1c36-c8bf-41aa-afab-5e0518bd75e8",
   "metadata": {},
   "source": [
    "<br>Defining the loss function and optimizer<br>"
   ]
  },
  {
   "cell_type": "code",
   "execution_count": 8,
   "id": "b06bc9b1-3b26-4378-8b0e-e316edc3eb99",
   "metadata": {},
   "outputs": [],
   "source": [
    "net = Net()\n",
    "criterion = nn.CrossEntropyLoss()\n",
    "optimizer = optim.SGD(net.parameters(), lr=0.001, momentum=0.9)\n",
    "device = torch.device(\"cuda:0\" if torch.cuda.is_available() else \"cpu\")"
   ]
  },
  {
   "cell_type": "markdown",
   "id": "9c49dd57-ad4a-4ea9-82b7-8d78516457a5",
   "metadata": {},
   "source": [
    "Defining the number of epochs: "
   ]
  },
  {
   "cell_type": "code",
   "execution_count": 9,
   "id": "22288aa7-6b11-47e6-8a06-d77abc060062",
   "metadata": {},
   "outputs": [],
   "source": [
    "epochs = 2"
   ]
  },
  {
   "cell_type": "markdown",
   "id": "bef2f416-2fe8-4ff4-92c6-8320bb9055c6",
   "metadata": {},
   "source": [
    "### 4. Train the model"
   ]
  },
  {
   "cell_type": "markdown",
   "id": "64049506-7744-4529-8d86-861ba82b3d2a",
   "metadata": {},
   "source": [
    "Defining the train function for our model : "
   ]
  },
  {
   "cell_type": "code",
   "execution_count": 10,
   "id": "9955174c-4b68-4fa3-aa23-785e35d0c038",
   "metadata": {},
   "outputs": [],
   "source": [
    "def train(model, trainloader, testloader, criterion, optimizer, device, epochs):\n",
    "    model.to(device)\n",
    "    start_time = time.time()\n",
    "    for epoch in range(epochs):\n",
    "        running_loss = 0.0\n",
    "        for i, data in enumerate(trainloader, 0):\n",
    "            inputs, labels = data\n",
    "            inputs, labels = inputs.to(device), labels.to(device)\n",
    "            optimizer.zero_grad()\n",
    "            outputs = model(inputs)\n",
    "            loss = criterion(outputs, labels)\n",
    "            loss.backward()\n",
    "            optimizer.step()\n",
    "            running_loss += loss.item()\n",
    "        \n",
    "        train_acc = func.evaluate(model, trainloader, device)\n",
    "        test_acc = func.evaluate(model, testloader, device)\n",
    "\n",
    "        print('Epoch [%d/%d]\\nLoss: %.4f' % (epoch+1, epochs, running_loss))\n",
    "        print('Training Accuracy: %.2f %%' % (train_acc))\n",
    "        print('Test Accuracy: %.2f %%' % (test_acc))\n",
    "        print('\\n')\n",
    "\n",
    "    end_time = time.time()\n",
    "    total_time = end_time - start_time\n",
    "    total_flops = (2 * 3 * 5 * 5 * 6 * 14 * 14 + 6 * 5 * 5 * 16 * 5 * 5 + 16 * 5 * 5 * 120 + 120 * 84 + 84 * 10) * len(trainloader.dataset)\n",
    "    total_adds = total_flops // 2\n",
    "    total_muls = total_flops // 2\n",
    "    total_maxs = (2 * 5 * 5 * 6 * 14 * 14 + 2 * 5 * 5 * 16 * 5 * 5) * len(trainloader.dataset)\n",
    "    total_ops = total_adds + total_muls + total_maxs\n",
    "    ops_per_second = total_ops / total_time\n",
    "\n",
    "    print('Total FLOPs: %.2f' % (total_flops))\n",
    "    print('Total Additions: %.2f' % (total_adds/1000000000))\n",
    "    print('Total Multiplications (in billion) : %.2f' % (total_muls/1000000000))\n",
    "    print('Total Maximums(in billion): %.2f' % (total_maxs/1000000000))\n",
    "    print('Total Operations(in billion): %.2f' % (total_ops/1000000000))\n",
    "    print('Total Time: %.2f seconds' % (total_time))\n",
    "    print('Operations Per Second (in million) : %.2f' % (ops_per_second/1000000))\n",
    "    print('\\nFinished Training')\n"
   ]
  },
  {
   "cell_type": "code",
   "execution_count": 11,
   "id": "28785452-50a0-47d8-9d3e-9ea95371f537",
   "metadata": {},
   "outputs": [
    {
     "name": "stdout",
     "output_type": "stream",
     "text": [
      "Epoch [1/2]\n",
      "Loss: 21410.1938\n",
      "Training Accuracy: 49.33 %\n",
      "Test Accuracy: 48.61 %\n",
      "\n",
      "\n",
      "Epoch [2/2]\n",
      "Loss: 16530.4919\n",
      "Training Accuracy: 57.66 %\n",
      "Test Accuracy: 56.26 %\n",
      "\n",
      "\n",
      "Total FLOPs: 14766000000.00\n",
      "Total Additions: 7.38\n",
      "Total Multiplications (in billion) : 7.38\n",
      "Total Maximums(in billion): 3.94\n",
      "Total Operations(in billion): 18.71\n",
      "Total Time: 121.56 seconds\n",
      "Operations Per Second (in million) : 153.88\n",
      "\n",
      "Finished Training\n"
     ]
    }
   ],
   "source": [
    "train(net, trainloader, testloader, criterion, optimizer, device, epochs)"
   ]
  },
  {
   "cell_type": "markdown",
   "id": "b52b6dea-05ab-4e7f-be37-158f5da076e3",
   "metadata": {},
   "source": [
    "## Performance by classes : <br>"
   ]
  },
  {
   "cell_type": "code",
   "execution_count": 12,
   "id": "b05be664-4dab-4481-85fb-b7a4acfca2fe",
   "metadata": {},
   "outputs": [],
   "source": [
    "class_accuracy = func.class_performance(net, testloader, device, classes)"
   ]
  },
  {
   "cell_type": "markdown",
   "id": "f31ffb4f-cda9-473e-bae2-a1b0d4358eef",
   "metadata": {},
   "source": [
    "<br> Plot perf by classes <br>"
   ]
  },
  {
   "cell_type": "code",
   "execution_count": 16,
   "id": "5d1149ec-6531-410a-8dc1-2fa6e9782851",
   "metadata": {},
   "outputs": [
    {
     "data": {
      "image/png": "[encoded data removed]",
      "text/plain": [
       "<Figure size 640x480 with 1 Axes>"
      ]
     },
     "metadata": {},
     "output_type": "display_data"
    }
   ],
   "source": [
    "func.plot_class_performance(class_accuracy, classes)"
   ]
  },
  {
   "cell_type": "code",
   "execution_count": null,
   "id": "5b600b3b-0d31-446e-8f8b-123de8f06523",
   "metadata": {},
   "outputs": [],
   "source": []
  }
 ],
 "metadata": {
  "kernelspec": {
   "display_name": "Python 3 (ipykernel)",
   "language": "python",
   "name": "python3"
  },
  "language_info": {
   "codemirror_mode": {
    "name": "ipython",
    "version": 3
   },
   "file_extension": ".py",
   "mimetype": "text/x-python",
   "name": "python",
   "nbconvert_exporter": "python",
   "pygments_lexer": "ipython3",
   "version": "3.7.16"
  }
 },
 "nbformat": 4,
 "nbformat_minor": 5
}
